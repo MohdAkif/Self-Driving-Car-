{
 "cells": [
  {
   "cell_type": "code",
   "execution_count": 4,
   "metadata": {},
   "outputs": [
    {
     "name": "stdout",
     "output_type": "stream",
     "text": [
      "completed preprocessing data.txt\n"
     ]
    }
   ],
   "source": [
    "import os\n",
    "import math\n",
    "import numpy as np\n",
    "from itertools import islice\n",
    "path='D:\\dataset\\self_driving_data'\n",
    "train_file=os.path.join(path,'data.txt')\n",
    "\n",
    "split=0.8\n",
    "y=[]\n",
    "try:\n",
    "    f=open(train_file)\n",
    "    for line in f.readlines():\n",
    "        t1,t2=line.split(',')\n",
    "        image,angle=t1.strip().split()\n",
    "        #converting the angle into radian\n",
    "        y.append((float(angle)*math.pi)/180)\n",
    "    y=np.array(y)\n",
    "    print(\"completed preprocessing data.txt\")\n",
    "    \n",
    "    split_index=int(len(y)*split)\n",
    "    train_y=y[:split_index]\n",
    "    test_y=y[split_index:]\n",
    "except:\n",
    "    print('file not found')\n",
    "finally:\n",
    "    f.close()\n"
   ]
  },
  {
   "cell_type": "code",
   "execution_count": 5,
   "metadata": {},
   "outputs": [
    {
     "data": {
      "image/png": "[encoded data removed]",
      "text/plain": [
       "<Figure size 432x288 with 1 Axes>"
      ]
     },
     "metadata": {
      "needs_background": "light"
     },
     "output_type": "display_data"
    },
    {
     "data": {
      "image/png": "[encoded data removed]",
      "text/plain": [
       "<Figure size 432x288 with 1 Axes>"
      ]
     },
     "metadata": {
      "needs_background": "light"
     },
     "output_type": "display_data"
    }
   ],
   "source": [
    "#now we are seeing the relationship among trian and test datasets\n",
    "import matplotlib.pyplot as plt\n",
    "plt.hist(train_y,bins=50,color='red',density=True,histtype='step')\n",
    "plt.hist(test_y,bins=50,color='green',density=True,histtype='step')\n",
    "plt.grid()\n",
    "plt.show()\n",
    "\n",
    "plt.hist(train_y,bins=50,color='red',density=True)\n",
    "plt.hist(test_y,bins=50,color='green',density=True)\n",
    "plt.grid()\n",
    "plt.show()"
   ]
  },
  {
   "cell_type": "code",
   "execution_count": 6,
   "metadata": {},
   "outputs": [
    {
     "name": "stdout",
     "output_type": "stream",
     "text": [
      "Test mean square error : 0.090517\n",
      "Test mean square error : 0.091768\n"
     ]
    }
   ],
   "source": [
    "#base model by using y_pred=mean(y) or 0 because most of the values is close to zero\n",
    "train_mean_y=np.mean(train_y)\n",
    "print(\"Test mean square error : %f\" %np.mean(np.square(test_y-train_mean_y)))\n",
    "\n",
    "#if we take pred=0\n",
    "print(\"Test mean square error : %f\" %np.mean(np.square(test_y-0.0)))\n",
    "#this means that our model accuracy should be greather than 91% beacuse our base model have accuracy 91%"
   ]
  },
  {
   "cell_type": "code",
   "execution_count": 9,
   "metadata": {},
   "outputs": [],
   "source": [
    "import IPython.display as display\n",
    "from PIL import Image\n",
    "import numpy as np\n",
    "import matplotlib.pyplot as plt\n",
    "import os\n",
    "import tensorflow as tf\n",
    "import cv2"
   ]
  },
  {
   "cell_type": "code",
   "execution_count": 20,
   "metadata": {},
   "outputs": [],
   "source": [
    "def load_data():\n",
    "    dir_=\"D:\\dataset\\self_driving_data\\data\"\n",
    "    training_data=[]\n",
    "    length=200 ; breadth=66\n",
    "    for img in os.listdir(dir_):\n",
    "        img_array=cv2.imread(os.path.join(dir_,img))\n",
    "        new_array=cv2.resize(img_array,(length,breadth))\n",
    "        training_data.append(new_array)\n",
    "    return training_data\n",
    "training_data=load_data()\n",
    "    "
   ]
  },
  {
   "cell_type": "code",
   "execution_count": 26,
   "metadata": {},
   "outputs": [],
   "source": [
    "#converting the list array into numpy array\n",
    "X=np.array(training_data).reshape(-1,200,66,3)"
   ]
  },
  {
   "cell_type": "code",
   "execution_count": null,
   "metadata": {},
   "outputs": [],
   "source": [
    "X=X/255.0\n",
    "x_train=X[:split_index]\n",
    "x_train=X[split_index:]\n",
    "print(\"shape of x_train : \",x_train.shape)\n",
    "print(\"shape of x_test : \",x_test.shape)"
   ]
  },
  {
   "cell_type": "code",
   "execution_count": 28,
   "metadata": {},
   "outputs": [],
   "source": [
    "import pickle \n",
    "pickle_out=open(\"X.pickle\",\"wb\")\n",
    "pickle.dump(X,pickle_out)\n",
    "pickle_out.close()\n",
    "\n",
    "pickle_out=open(\"y.pickle\",\"wb\")\n",
    "pickle.dump(y,pickle_out)\n",
    "pickle_out.close()"
   ]
  },
  {
   "cell_type": "code",
   "execution_count": null,
   "metadata": {},
   "outputs": [],
   "source": []
  },
  {
   "cell_type": "code",
   "execution_count": null,
   "metadata": {},
   "outputs": [],
   "source": []
  }
 ],
 "metadata": {
  "kernelspec": {
   "display_name": "Python 3.7 (tensorflow)",
   "language": "python",
   "name": "tensorflow"
  },
  "language_info": {
   "codemirror_mode": {
    "name": "ipython",
    "version": 3
   },
   "file_extension": ".py",
   "mimetype": "text/x-python",
   "name": "python",
   "nbconvert_exporter": "python",
   "pygments_lexer": "ipython3",
   "version": "3.7.7"
  }
 },
 "nbformat": 4,
 "nbformat_minor": 4
}
